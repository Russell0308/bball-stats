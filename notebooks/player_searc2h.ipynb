{
 "cells": [
  {
   "cell_type": "code",
   "execution_count": 1,
   "id": "7c35dae3-5d12-4bdf-8eb5-a70c86ef8e26",
   "metadata": {},
   "outputs": [],
   "source": [
    "import pandas as pd\n",
    "from nba_api.stats.library import data"
   ]
  },
  {
   "cell_type": "code",
   "execution_count": 8,
   "id": "0c831039-dc28-4dda-9051-6c2fe0a8cb57",
   "metadata": {},
   "outputs": [],
   "source": [
    "players_ids = data.players"
   ]
  },
  {
   "cell_type": "code",
   "execution_count": 9,
   "id": "5687428d-26ee-4c77-a215-0626605da272",
   "metadata": {},
   "outputs": [],
   "source": [
    "df_players_ids = pd.DataFrame(players_ids)"
   ]
  },
  {
   "cell_type": "code",
   "execution_count": 10,
   "id": "4d510253-2ffa-450d-adb0-d1d022df0fcf",
   "metadata": {},
   "outputs": [],
   "source": [
    "df_players_ids.columns=['Ids', 'Last_Name', 'First_Name', 'Full_Name', 'Current_Player']"
   ]
  },
  {
   "cell_type": "code",
   "execution_count": 14,
   "id": "25b16df3-d71c-41fc-9cb0-78de91c69a50",
   "metadata": {},
   "outputs": [
    {
     "data": {
      "text/html": [
       "<div>\n",
       "<style scoped>\n",
       "    .dataframe tbody tr th:only-of-type {\n",
       "        vertical-align: middle;\n",
       "    }\n",
       "\n",
       "    .dataframe tbody tr th {\n",
       "        vertical-align: top;\n",
       "    }\n",
       "\n",
       "    .dataframe thead th {\n",
       "        text-align: right;\n",
       "    }\n",
       "</style>\n",
       "<table border=\"1\" class=\"dataframe\">\n",
       "  <thead>\n",
       "    <tr style=\"text-align: right;\">\n",
       "      <th></th>\n",
       "      <th>Ids</th>\n",
       "      <th>Last_Name</th>\n",
       "      <th>First_Name</th>\n",
       "      <th>Full_Name</th>\n",
       "      <th>Current_Player</th>\n",
       "    </tr>\n",
       "  </thead>\n",
       "  <tbody>\n",
       "    <tr>\n",
       "      <th>0</th>\n",
       "      <td>76001</td>\n",
       "      <td>Abdelnaby</td>\n",
       "      <td>Alaa</td>\n",
       "      <td>Alaa Abdelnaby</td>\n",
       "      <td>False</td>\n",
       "    </tr>\n",
       "    <tr>\n",
       "      <th>1</th>\n",
       "      <td>76002</td>\n",
       "      <td>Abdul-Aziz</td>\n",
       "      <td>Zaid</td>\n",
       "      <td>Zaid Abdul-Aziz</td>\n",
       "      <td>False</td>\n",
       "    </tr>\n",
       "    <tr>\n",
       "      <th>2</th>\n",
       "      <td>76003</td>\n",
       "      <td>Abdul-Jabbar</td>\n",
       "      <td>Kareem</td>\n",
       "      <td>Kareem Abdul-Jabbar</td>\n",
       "      <td>False</td>\n",
       "    </tr>\n",
       "    <tr>\n",
       "      <th>3</th>\n",
       "      <td>51</td>\n",
       "      <td>Abdul-Rauf</td>\n",
       "      <td>Mahmoud</td>\n",
       "      <td>Mahmoud Abdul-Rauf</td>\n",
       "      <td>False</td>\n",
       "    </tr>\n",
       "    <tr>\n",
       "      <th>4</th>\n",
       "      <td>1505</td>\n",
       "      <td>Abdul-Wahad</td>\n",
       "      <td>Tariq</td>\n",
       "      <td>Tariq Abdul-Wahad</td>\n",
       "      <td>False</td>\n",
       "    </tr>\n",
       "  </tbody>\n",
       "</table>\n",
       "</div>"
      ],
      "text/plain": [
       "     Ids     Last_Name First_Name            Full_Name  Current_Player\n",
       "0  76001     Abdelnaby       Alaa       Alaa Abdelnaby           False\n",
       "1  76002    Abdul-Aziz       Zaid      Zaid Abdul-Aziz           False\n",
       "2  76003  Abdul-Jabbar     Kareem  Kareem Abdul-Jabbar           False\n",
       "3     51    Abdul-Rauf    Mahmoud   Mahmoud Abdul-Rauf           False\n",
       "4   1505   Abdul-Wahad      Tariq    Tariq Abdul-Wahad           False"
      ]
     },
     "execution_count": 14,
     "metadata": {},
     "output_type": "execute_result"
    }
   ],
   "source": [
    "df_players_ids.head()"
   ]
  },
  {
   "cell_type": "code",
   "execution_count": 15,
   "id": "c6d532d7-7e18-4da6-8e98-4a56cf06cd6d",
   "metadata": {},
   "outputs": [
    {
     "name": "stdout",
     "output_type": "stream",
     "text": [
      "<class 'pandas.core.frame.DataFrame'>\n",
      "RangeIndex: 5019 entries, 0 to 5018\n",
      "Data columns (total 5 columns):\n",
      " #   Column          Non-Null Count  Dtype \n",
      "---  ------          --------------  ----- \n",
      " 0   Ids             5019 non-null   int64 \n",
      " 1   Last_Name       5019 non-null   object\n",
      " 2   First_Name      5019 non-null   object\n",
      " 3   Full_Name       5019 non-null   object\n",
      " 4   Current_Player  5019 non-null   bool  \n",
      "dtypes: bool(1), int64(1), object(3)\n",
      "memory usage: 161.9+ KB\n"
     ]
    }
   ],
   "source": [
    "df_players_ids.info()"
   ]
  },
  {
   "cell_type": "code",
   "execution_count": null,
   "id": "268c79b4-a1fa-4b2f-840a-5c47a8fefd60",
   "metadata": {},
   "outputs": [],
   "source": [
    "df"
   ]
  }
 ],
 "metadata": {
  "kernelspec": {
   "display_name": "Python 3 (ipykernel)",
   "language": "python",
   "name": "python3"
  },
  "language_info": {
   "codemirror_mode": {
    "name": "ipython",
    "version": 3
   },
   "file_extension": ".py",
   "mimetype": "text/x-python",
   "name": "python",
   "nbconvert_exporter": "python",
   "pygments_lexer": "ipython3",
   "version": "3.12.5"
  }
 },
 "nbformat": 4,
 "nbformat_minor": 5
}
