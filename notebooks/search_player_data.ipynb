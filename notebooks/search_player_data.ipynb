{
 "cells": [
  {
   "cell_type": "code",
   "execution_count": 1,
   "id": "d99d6483-34d5-4b4e-8aa3-d6a97da72192",
   "metadata": {},
   "outputs": [],
   "source": [
    "import pandas as pd\n",
    "\n",
    "from nba_api.stats.static import players, teams\n",
    "from nba_api.stats.endpoints import playerprofilev2\n",
    "from nba_api.stats.endpoints import commonteamroster\n"
   ]
  },
  {
   "cell_type": "markdown",
   "id": "30910756-4ab8-40e3-a56c-c587aa318e28",
   "metadata": {},
   "source": [
    "Create a df including player current jersey #, Name, team"
   ]
  },
  {
   "cell_type": "code",
   "execution_count": 2,
   "id": "f97cbee0-53e0-4545-9f18-6254263216e8",
   "metadata": {},
   "outputs": [],
   "source": [
    "player_name = 'Dejounte Murray'"
   ]
  },
  {
   "cell_type": "markdown",
   "id": "d824b585-5184-4e1d-ad33-315748e99fa8",
   "metadata": {},
   "source": [
    "all_players = players.get_players()"
   ]
  },
  {
   "cell_type": "code",
   "execution_count": 3,
   "id": "79feceb3-4eaf-4b33-8464-16b35efdb06e",
   "metadata": {},
   "outputs": [],
   "source": [
    "team_df = pd.DataFrame(teams.get_teams())"
   ]
  },
  {
   "cell_type": "code",
   "execution_count": 4,
   "id": "d1b02716-fd11-451f-9b6f-e82758728e88",
   "metadata": {},
   "outputs": [
    {
     "data": {
      "text/html": [
       "<div>\n",
       "<style scoped>\n",
       "    .dataframe tbody tr th:only-of-type {\n",
       "        vertical-align: middle;\n",
       "    }\n",
       "\n",
       "    .dataframe tbody tr th {\n",
       "        vertical-align: top;\n",
       "    }\n",
       "\n",
       "    .dataframe thead th {\n",
       "        text-align: right;\n",
       "    }\n",
       "</style>\n",
       "<table border=\"1\" class=\"dataframe\">\n",
       "  <thead>\n",
       "    <tr style=\"text-align: right;\">\n",
       "      <th></th>\n",
       "      <th>id</th>\n",
       "      <th>full_name</th>\n",
       "      <th>abbreviation</th>\n",
       "      <th>nickname</th>\n",
       "      <th>city</th>\n",
       "      <th>state</th>\n",
       "      <th>year_founded</th>\n",
       "    </tr>\n",
       "  </thead>\n",
       "  <tbody>\n",
       "    <tr>\n",
       "      <th>0</th>\n",
       "      <td>1610612737</td>\n",
       "      <td>Atlanta Hawks</td>\n",
       "      <td>ATL</td>\n",
       "      <td>Hawks</td>\n",
       "      <td>Atlanta</td>\n",
       "      <td>Georgia</td>\n",
       "      <td>1949</td>\n",
       "    </tr>\n",
       "    <tr>\n",
       "      <th>1</th>\n",
       "      <td>1610612738</td>\n",
       "      <td>Boston Celtics</td>\n",
       "      <td>BOS</td>\n",
       "      <td>Celtics</td>\n",
       "      <td>Boston</td>\n",
       "      <td>Massachusetts</td>\n",
       "      <td>1946</td>\n",
       "    </tr>\n",
       "    <tr>\n",
       "      <th>2</th>\n",
       "      <td>1610612739</td>\n",
       "      <td>Cleveland Cavaliers</td>\n",
       "      <td>CLE</td>\n",
       "      <td>Cavaliers</td>\n",
       "      <td>Cleveland</td>\n",
       "      <td>Ohio</td>\n",
       "      <td>1970</td>\n",
       "    </tr>\n",
       "    <tr>\n",
       "      <th>3</th>\n",
       "      <td>1610612740</td>\n",
       "      <td>New Orleans Pelicans</td>\n",
       "      <td>NOP</td>\n",
       "      <td>Pelicans</td>\n",
       "      <td>New Orleans</td>\n",
       "      <td>Louisiana</td>\n",
       "      <td>2002</td>\n",
       "    </tr>\n",
       "    <tr>\n",
       "      <th>4</th>\n",
       "      <td>1610612741</td>\n",
       "      <td>Chicago Bulls</td>\n",
       "      <td>CHI</td>\n",
       "      <td>Bulls</td>\n",
       "      <td>Chicago</td>\n",
       "      <td>Illinois</td>\n",
       "      <td>1966</td>\n",
       "    </tr>\n",
       "  </tbody>\n",
       "</table>\n",
       "</div>"
      ],
      "text/plain": [
       "           id             full_name abbreviation   nickname         city  \\\n",
       "0  1610612737         Atlanta Hawks          ATL      Hawks      Atlanta   \n",
       "1  1610612738        Boston Celtics          BOS    Celtics       Boston   \n",
       "2  1610612739   Cleveland Cavaliers          CLE  Cavaliers    Cleveland   \n",
       "3  1610612740  New Orleans Pelicans          NOP   Pelicans  New Orleans   \n",
       "4  1610612741         Chicago Bulls          CHI      Bulls      Chicago   \n",
       "\n",
       "           state  year_founded  \n",
       "0        Georgia          1949  \n",
       "1  Massachusetts          1946  \n",
       "2           Ohio          1970  \n",
       "3      Louisiana          2002  \n",
       "4       Illinois          1966  "
      ]
     },
     "execution_count": 4,
     "metadata": {},
     "output_type": "execute_result"
    }
   ],
   "source": [
    "team_df.head()"
   ]
  },
  {
   "cell_type": "code",
   "execution_count": 5,
   "id": "097301e7-716a-4063-a445-e1b05fa8fa12",
   "metadata": {},
   "outputs": [],
   "source": [
    "all_players = players.get_players()"
   ]
  },
  {
   "cell_type": "code",
   "execution_count": 6,
   "id": "0b6f503f-e7d2-476f-80ae-1e8b8c81ebd3",
   "metadata": {},
   "outputs": [],
   "source": [
    "df = pd.DataFrame(all_players)"
   ]
  },
  {
   "cell_type": "code",
   "execution_count": 7,
   "id": "26676d82-8219-46b1-9641-219ed25b4bfd",
   "metadata": {},
   "outputs": [],
   "source": [
    "df.drop('first_name', inplace=True, axis=1)\n",
    "df.drop('last_name', inplace=True, axis=1)"
   ]
  },
  {
   "cell_type": "code",
   "execution_count": 8,
   "id": "a1c7fb54-33a6-4ab0-a657-7b457ce0d786",
   "metadata": {},
   "outputs": [
    {
     "data": {
      "text/html": [
       "<div>\n",
       "<style scoped>\n",
       "    .dataframe tbody tr th:only-of-type {\n",
       "        vertical-align: middle;\n",
       "    }\n",
       "\n",
       "    .dataframe tbody tr th {\n",
       "        vertical-align: top;\n",
       "    }\n",
       "\n",
       "    .dataframe thead th {\n",
       "        text-align: right;\n",
       "    }\n",
       "</style>\n",
       "<table border=\"1\" class=\"dataframe\">\n",
       "  <thead>\n",
       "    <tr style=\"text-align: right;\">\n",
       "      <th></th>\n",
       "      <th>id</th>\n",
       "      <th>full_name</th>\n",
       "      <th>is_active</th>\n",
       "    </tr>\n",
       "  </thead>\n",
       "  <tbody>\n",
       "    <tr>\n",
       "      <th>0</th>\n",
       "      <td>76001</td>\n",
       "      <td>Alaa Abdelnaby</td>\n",
       "      <td>False</td>\n",
       "    </tr>\n",
       "    <tr>\n",
       "      <th>1</th>\n",
       "      <td>76002</td>\n",
       "      <td>Zaid Abdul-Aziz</td>\n",
       "      <td>False</td>\n",
       "    </tr>\n",
       "    <tr>\n",
       "      <th>2</th>\n",
       "      <td>76003</td>\n",
       "      <td>Kareem Abdul-Jabbar</td>\n",
       "      <td>False</td>\n",
       "    </tr>\n",
       "    <tr>\n",
       "      <th>3</th>\n",
       "      <td>51</td>\n",
       "      <td>Mahmoud Abdul-Rauf</td>\n",
       "      <td>False</td>\n",
       "    </tr>\n",
       "    <tr>\n",
       "      <th>4</th>\n",
       "      <td>1505</td>\n",
       "      <td>Tariq Abdul-Wahad</td>\n",
       "      <td>False</td>\n",
       "    </tr>\n",
       "  </tbody>\n",
       "</table>\n",
       "</div>"
      ],
      "text/plain": [
       "      id            full_name  is_active\n",
       "0  76001       Alaa Abdelnaby      False\n",
       "1  76002      Zaid Abdul-Aziz      False\n",
       "2  76003  Kareem Abdul-Jabbar      False\n",
       "3     51   Mahmoud Abdul-Rauf      False\n",
       "4   1505    Tariq Abdul-Wahad      False"
      ]
     },
     "execution_count": 8,
     "metadata": {},
     "output_type": "execute_result"
    }
   ],
   "source": [
    "df.head()"
   ]
  },
  {
   "cell_type": "code",
   "execution_count": 9,
   "id": "403158ba-ce8e-4815-bb88-33d4bceb036d",
   "metadata": {},
   "outputs": [
    {
     "data": {
      "text/html": [
       "<div>\n",
       "<style scoped>\n",
       "    .dataframe tbody tr th:only-of-type {\n",
       "        vertical-align: middle;\n",
       "    }\n",
       "\n",
       "    .dataframe tbody tr th {\n",
       "        vertical-align: top;\n",
       "    }\n",
       "\n",
       "    .dataframe thead th {\n",
       "        text-align: right;\n",
       "    }\n",
       "</style>\n",
       "<table border=\"1\" class=\"dataframe\">\n",
       "  <thead>\n",
       "    <tr style=\"text-align: right;\">\n",
       "      <th></th>\n",
       "      <th>id</th>\n",
       "      <th>full_name</th>\n",
       "      <th>is_active</th>\n",
       "    </tr>\n",
       "  </thead>\n",
       "  <tbody>\n",
       "    <tr>\n",
       "      <th>3185</th>\n",
       "      <td>1627749</td>\n",
       "      <td>Dejounte Murray</td>\n",
       "      <td>True</td>\n",
       "    </tr>\n",
       "  </tbody>\n",
       "</table>\n",
       "</div>"
      ],
      "text/plain": [
       "           id        full_name  is_active\n",
       "3185  1627749  Dejounte Murray       True"
      ]
     },
     "execution_count": 9,
     "metadata": {},
     "output_type": "execute_result"
    }
   ],
   "source": [
    "player_row = df[df['full_name'] == player_name]\n",
    "player_row"
   ]
  },
  {
   "cell_type": "code",
   "execution_count": 10,
   "id": "b95ffafa-0a62-4b18-bc53-6011ba644e2c",
   "metadata": {},
   "outputs": [
    {
     "data": {
      "text/plain": [
       "1627749"
      ]
     },
     "execution_count": 10,
     "metadata": {},
     "output_type": "execute_result"
    }
   ],
   "source": [
    "player_id = player_row['id'].iloc[0]\n",
    "player_id"
   ]
  },
  {
   "cell_type": "code",
   "execution_count": 11,
   "id": "b21f4026-af01-4cb9-91fd-4620b819d83c",
   "metadata": {},
   "outputs": [],
   "source": [
    "playerprofile = playerprofilev2.PlayerProfileV2(player_id=player_id)"
   ]
  },
  {
   "cell_type": "code",
   "execution_count": 12,
   "id": "d24c7c0c-b05a-468d-ad48-3dd39c87a553",
   "metadata": {},
   "outputs": [
    {
     "name": "stdout",
     "output_type": "stream",
     "text": [
      "<class 'pandas.core.frame.DataFrame'>\n",
      "RangeIndex: 7 entries, 0 to 6\n",
      "Data columns (total 27 columns):\n",
      " #   Column             Non-Null Count  Dtype  \n",
      "---  ------             --------------  -----  \n",
      " 0   PLAYER_ID          7 non-null      int64  \n",
      " 1   SEASON_ID          7 non-null      object \n",
      " 2   LEAGUE_ID          7 non-null      object \n",
      " 3   TEAM_ID            7 non-null      int64  \n",
      " 4   TEAM_ABBREVIATION  7 non-null      object \n",
      " 5   PLAYER_AGE         7 non-null      float64\n",
      " 6   GP                 7 non-null      int64  \n",
      " 7   GS                 7 non-null      int64  \n",
      " 8   MIN                7 non-null      int64  \n",
      " 9   FGM                7 non-null      int64  \n",
      " 10  FGA                7 non-null      int64  \n",
      " 11  FG_PCT             7 non-null      float64\n",
      " 12  FG3M               7 non-null      int64  \n",
      " 13  FG3A               7 non-null      int64  \n",
      " 14  FG3_PCT            7 non-null      float64\n",
      " 15  FTM                7 non-null      int64  \n",
      " 16  FTA                7 non-null      int64  \n",
      " 17  FT_PCT             7 non-null      float64\n",
      " 18  OREB               7 non-null      int64  \n",
      " 19  DREB               7 non-null      int64  \n",
      " 20  REB                7 non-null      int64  \n",
      " 21  AST                7 non-null      int64  \n",
      " 22  STL                7 non-null      int64  \n",
      " 23  BLK                7 non-null      int64  \n",
      " 24  TOV                7 non-null      int64  \n",
      " 25  PF                 7 non-null      int64  \n",
      " 26  PTS                7 non-null      int64  \n",
      "dtypes: float64(4), int64(20), object(3)\n",
      "memory usage: 1.6+ KB\n"
     ]
    }
   ],
   "source": [
    "df_player_profile = playerprofile.get_data_frames()[0]\n",
    "player_team_abbrev = list(df_player_profile['TEAM_ABBREVIATION'])[-1]\n",
    "df_player_profile.info()"
   ]
  },
  {
   "cell_type": "code",
   "execution_count": 13,
   "id": "09678686-7e78-4163-9e2e-30b08792284a",
   "metadata": {},
   "outputs": [
    {
     "data": {
      "text/plain": [
       "'ATL'"
      ]
     },
     "execution_count": 13,
     "metadata": {},
     "output_type": "execute_result"
    }
   ],
   "source": [
    "player_team_abbrev"
   ]
  },
  {
   "cell_type": "code",
   "execution_count": 14,
   "id": "31d0045b-1226-47eb-aa35-76b396c95a47",
   "metadata": {},
   "outputs": [],
   "source": [
    "team_id = team_df[team_df['abbreviation'] == player_team_abbrev]"
   ]
  },
  {
   "cell_type": "code",
   "execution_count": 15,
   "id": "3057e47c-ee6b-4e9e-82cd-1385685067e9",
   "metadata": {},
   "outputs": [],
   "source": [
    "team_id = (team_id.iloc[0, 0])"
   ]
  },
  {
   "cell_type": "code",
   "execution_count": 16,
   "id": "6643e290-bb9b-45d6-926d-7b6ef10ac126",
   "metadata": {},
   "outputs": [],
   "source": [
    "team_roster = commonteamroster.CommonTeamRoster(team_id=team_id)"
   ]
  },
  {
   "cell_type": "code",
   "execution_count": 17,
   "id": "31411af0-4d7b-4c45-ab28-e22bd43615cb",
   "metadata": {},
   "outputs": [],
   "source": [
    "team_roster = team_roster.get_data_frames()[0]"
   ]
  },
  {
   "cell_type": "code",
   "execution_count": 18,
   "id": "a04d427f-9f1d-4618-9240-59b0f8e2b0a3",
   "metadata": {},
   "outputs": [],
   "source": [
    "player_data = team_roster[team_roster['PLAYER_ID'] == player_id]"
   ]
  },
  {
   "cell_type": "code",
   "execution_count": 19,
   "id": "fe742997-e924-48bd-a81a-9bce27675942",
   "metadata": {},
   "outputs": [
    {
     "name": "stdout",
     "output_type": "stream",
     "text": [
      "Empty DataFrame\n",
      "Columns: [TeamID, SEASON, LeagueID, PLAYER, NICKNAME, PLAYER_SLUG, NUM, POSITION, HEIGHT, WEIGHT, BIRTH_DATE, AGE, EXP, SCHOOL, PLAYER_ID, HOW_ACQUIRED]\n",
      "Index: []\n"
     ]
    }
   ],
   "source": [
    "print(player_data)"
   ]
  },
  {
   "cell_type": "code",
   "execution_count": 20,
   "id": "16d1e97e-7984-40ee-a4f4-4cdb5cb97e27",
   "metadata": {},
   "outputs": [],
   "source": [
    "player_number = player_data['NUM']"
   ]
  },
  {
   "cell_type": "code",
   "execution_count": null,
   "id": "f007b8d3-8375-47a9-8722-f69be58113cb",
   "metadata": {},
   "outputs": [],
   "source": []
  },
  {
   "cell_type": "code",
   "execution_count": null,
   "id": "1cf0c82d-1758-478f-a63d-7e0fef66bc5b",
   "metadata": {},
   "outputs": [],
   "source": []
  },
  {
   "cell_type": "code",
   "execution_count": null,
   "id": "99e61eef-231c-4e2c-ae3b-abebd882d06f",
   "metadata": {},
   "outputs": [],
   "source": []
  },
  {
   "cell_type": "code",
   "execution_count": 21,
   "id": "5b30fbc8-4f7e-49a6-a255-2618bb0d8e0e",
   "metadata": {},
   "outputs": [
    {
     "ename": "IndexError",
     "evalue": "single positional indexer is out-of-bounds",
     "output_type": "error",
     "traceback": [
      "\u001b[0;31m---------------------------------------------------------------------------\u001b[0m",
      "\u001b[0;31mIndexError\u001b[0m                                Traceback (most recent call last)",
      "Cell \u001b[0;32mIn[21], line 1\u001b[0m\n\u001b[0;32m----> 1\u001b[0m player_number \u001b[38;5;241m=\u001b[39m \u001b[38;5;28mint\u001b[39m(\u001b[43mplayer_number\u001b[49m\u001b[38;5;241;43m.\u001b[39;49m\u001b[43miloc\u001b[49m\u001b[43m[\u001b[49m\u001b[38;5;241;43m0\u001b[39;49m\u001b[43m]\u001b[49m)\n",
      "File \u001b[0;32m/opt/homebrew/lib/python3.12/site-packages/pandas/core/indexing.py:1191\u001b[0m, in \u001b[0;36m_LocationIndexer.__getitem__\u001b[0;34m(self, key)\u001b[0m\n\u001b[1;32m   1189\u001b[0m maybe_callable \u001b[38;5;241m=\u001b[39m com\u001b[38;5;241m.\u001b[39mapply_if_callable(key, \u001b[38;5;28mself\u001b[39m\u001b[38;5;241m.\u001b[39mobj)\n\u001b[1;32m   1190\u001b[0m maybe_callable \u001b[38;5;241m=\u001b[39m \u001b[38;5;28mself\u001b[39m\u001b[38;5;241m.\u001b[39m_check_deprecated_callable_usage(key, maybe_callable)\n\u001b[0;32m-> 1191\u001b[0m \u001b[38;5;28;01mreturn\u001b[39;00m \u001b[38;5;28;43mself\u001b[39;49m\u001b[38;5;241;43m.\u001b[39;49m\u001b[43m_getitem_axis\u001b[49m\u001b[43m(\u001b[49m\u001b[43mmaybe_callable\u001b[49m\u001b[43m,\u001b[49m\u001b[43m \u001b[49m\u001b[43maxis\u001b[49m\u001b[38;5;241;43m=\u001b[39;49m\u001b[43maxis\u001b[49m\u001b[43m)\u001b[49m\n",
      "File \u001b[0;32m/opt/homebrew/lib/python3.12/site-packages/pandas/core/indexing.py:1752\u001b[0m, in \u001b[0;36m_iLocIndexer._getitem_axis\u001b[0;34m(self, key, axis)\u001b[0m\n\u001b[1;32m   1749\u001b[0m     \u001b[38;5;28;01mraise\u001b[39;00m \u001b[38;5;167;01mTypeError\u001b[39;00m(\u001b[38;5;124m\"\u001b[39m\u001b[38;5;124mCannot index by location index with a non-integer key\u001b[39m\u001b[38;5;124m\"\u001b[39m)\n\u001b[1;32m   1751\u001b[0m \u001b[38;5;66;03m# validate the location\u001b[39;00m\n\u001b[0;32m-> 1752\u001b[0m \u001b[38;5;28;43mself\u001b[39;49m\u001b[38;5;241;43m.\u001b[39;49m\u001b[43m_validate_integer\u001b[49m\u001b[43m(\u001b[49m\u001b[43mkey\u001b[49m\u001b[43m,\u001b[49m\u001b[43m \u001b[49m\u001b[43maxis\u001b[49m\u001b[43m)\u001b[49m\n\u001b[1;32m   1754\u001b[0m \u001b[38;5;28;01mreturn\u001b[39;00m \u001b[38;5;28mself\u001b[39m\u001b[38;5;241m.\u001b[39mobj\u001b[38;5;241m.\u001b[39m_ixs(key, axis\u001b[38;5;241m=\u001b[39maxis)\n",
      "File \u001b[0;32m/opt/homebrew/lib/python3.12/site-packages/pandas/core/indexing.py:1685\u001b[0m, in \u001b[0;36m_iLocIndexer._validate_integer\u001b[0;34m(self, key, axis)\u001b[0m\n\u001b[1;32m   1683\u001b[0m len_axis \u001b[38;5;241m=\u001b[39m \u001b[38;5;28mlen\u001b[39m(\u001b[38;5;28mself\u001b[39m\u001b[38;5;241m.\u001b[39mobj\u001b[38;5;241m.\u001b[39m_get_axis(axis))\n\u001b[1;32m   1684\u001b[0m \u001b[38;5;28;01mif\u001b[39;00m key \u001b[38;5;241m>\u001b[39m\u001b[38;5;241m=\u001b[39m len_axis \u001b[38;5;129;01mor\u001b[39;00m key \u001b[38;5;241m<\u001b[39m \u001b[38;5;241m-\u001b[39mlen_axis:\n\u001b[0;32m-> 1685\u001b[0m     \u001b[38;5;28;01mraise\u001b[39;00m \u001b[38;5;167;01mIndexError\u001b[39;00m(\u001b[38;5;124m\"\u001b[39m\u001b[38;5;124msingle positional indexer is out-of-bounds\u001b[39m\u001b[38;5;124m\"\u001b[39m)\n",
      "\u001b[0;31mIndexError\u001b[0m: single positional indexer is out-of-bounds"
     ]
    }
   ],
   "source": [
    "player_number = int(player_number.iloc[0])"
   ]
  }
 ],
 "metadata": {
  "kernelspec": {
   "display_name": "Python 3 (ipykernel)",
   "language": "python",
   "name": "python3"
  },
  "language_info": {
   "codemirror_mode": {
    "name": "ipython",
    "version": 3
   },
   "file_extension": ".py",
   "mimetype": "text/x-python",
   "name": "python",
   "nbconvert_exporter": "python",
   "pygments_lexer": "ipython3",
   "version": "3.12.6"
  }
 },
 "nbformat": 4,
 "nbformat_minor": 5
}
