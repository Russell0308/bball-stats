{
 "cells": [
  {
   "cell_type": "code",
   "execution_count": 1,
   "id": "d99d6483-34d5-4b4e-8aa3-d6a97da72192",
   "metadata": {},
   "outputs": [],
   "source": [
    "import pandas as pd\n",
    "\n",
    "from nba_api.stats.static import players, teams\n",
    "from nba_api.stats.endpoints import playerprofilev2\n",
    "from nba_api.stats.endpoints import commonteamroster\n"
   ]
  },
  {
   "cell_type": "markdown",
   "id": "30910756-4ab8-40e3-a56c-c587aa318e28",
   "metadata": {},
   "source": [
    "Create a df including player current jersey #, Name, team"
   ]
  },
  {
   "cell_type": "code",
   "execution_count": 15,
   "id": "f97cbee0-53e0-4545-9f18-6254263216e8",
   "metadata": {},
   "outputs": [],
   "source": [
    "player_name = 'Shai Gilgeous-Alexander'"
   ]
  },
  {
   "cell_type": "code",
   "execution_count": 3,
   "id": "71bf439e-ec2a-4ada-b8e4-5f59dd24a6ed",
   "metadata": {},
   "outputs": [],
   "source": [
    "all_players = players.get_players()"
   ]
  },
  {
   "cell_type": "code",
   "execution_count": 4,
   "id": "79feceb3-4eaf-4b33-8464-16b35efdb06e",
   "metadata": {},
   "outputs": [],
   "source": [
    "team_df = pd.DataFrame(teams.get_teams())"
   ]
  },
  {
   "cell_type": "code",
   "execution_count": 5,
   "id": "d1b02716-fd11-451f-9b6f-e82758728e88",
   "metadata": {},
   "outputs": [
    {
     "data": {
      "text/html": [
       "<div>\n",
       "<style scoped>\n",
       "    .dataframe tbody tr th:only-of-type {\n",
       "        vertical-align: middle;\n",
       "    }\n",
       "\n",
       "    .dataframe tbody tr th {\n",
       "        vertical-align: top;\n",
       "    }\n",
       "\n",
       "    .dataframe thead th {\n",
       "        text-align: right;\n",
       "    }\n",
       "</style>\n",
       "<table border=\"1\" class=\"dataframe\">\n",
       "  <thead>\n",
       "    <tr style=\"text-align: right;\">\n",
       "      <th></th>\n",
       "      <th>id</th>\n",
       "      <th>full_name</th>\n",
       "      <th>abbreviation</th>\n",
       "      <th>nickname</th>\n",
       "      <th>city</th>\n",
       "      <th>state</th>\n",
       "      <th>year_founded</th>\n",
       "    </tr>\n",
       "  </thead>\n",
       "  <tbody>\n",
       "    <tr>\n",
       "      <th>0</th>\n",
       "      <td>1610612737</td>\n",
       "      <td>Atlanta Hawks</td>\n",
       "      <td>ATL</td>\n",
       "      <td>Hawks</td>\n",
       "      <td>Atlanta</td>\n",
       "      <td>Georgia</td>\n",
       "      <td>1949</td>\n",
       "    </tr>\n",
       "    <tr>\n",
       "      <th>1</th>\n",
       "      <td>1610612738</td>\n",
       "      <td>Boston Celtics</td>\n",
       "      <td>BOS</td>\n",
       "      <td>Celtics</td>\n",
       "      <td>Boston</td>\n",
       "      <td>Massachusetts</td>\n",
       "      <td>1946</td>\n",
       "    </tr>\n",
       "    <tr>\n",
       "      <th>2</th>\n",
       "      <td>1610612739</td>\n",
       "      <td>Cleveland Cavaliers</td>\n",
       "      <td>CLE</td>\n",
       "      <td>Cavaliers</td>\n",
       "      <td>Cleveland</td>\n",
       "      <td>Ohio</td>\n",
       "      <td>1970</td>\n",
       "    </tr>\n",
       "    <tr>\n",
       "      <th>3</th>\n",
       "      <td>1610612740</td>\n",
       "      <td>New Orleans Pelicans</td>\n",
       "      <td>NOP</td>\n",
       "      <td>Pelicans</td>\n",
       "      <td>New Orleans</td>\n",
       "      <td>Louisiana</td>\n",
       "      <td>2002</td>\n",
       "    </tr>\n",
       "    <tr>\n",
       "      <th>4</th>\n",
       "      <td>1610612741</td>\n",
       "      <td>Chicago Bulls</td>\n",
       "      <td>CHI</td>\n",
       "      <td>Bulls</td>\n",
       "      <td>Chicago</td>\n",
       "      <td>Illinois</td>\n",
       "      <td>1966</td>\n",
       "    </tr>\n",
       "  </tbody>\n",
       "</table>\n",
       "</div>"
      ],
      "text/plain": [
       "           id             full_name abbreviation   nickname         city  \\\n",
       "0  1610612737         Atlanta Hawks          ATL      Hawks      Atlanta   \n",
       "1  1610612738        Boston Celtics          BOS    Celtics       Boston   \n",
       "2  1610612739   Cleveland Cavaliers          CLE  Cavaliers    Cleveland   \n",
       "3  1610612740  New Orleans Pelicans          NOP   Pelicans  New Orleans   \n",
       "4  1610612741         Chicago Bulls          CHI      Bulls      Chicago   \n",
       "\n",
       "           state  year_founded  \n",
       "0        Georgia          1949  \n",
       "1  Massachusetts          1946  \n",
       "2           Ohio          1970  \n",
       "3      Louisiana          2002  \n",
       "4       Illinois          1966  "
      ]
     },
     "execution_count": 5,
     "metadata": {},
     "output_type": "execute_result"
    }
   ],
   "source": [
    "team_df.head()"
   ]
  },
  {
   "cell_type": "code",
   "execution_count": 6,
   "id": "0b6f503f-e7d2-476f-80ae-1e8b8c81ebd3",
   "metadata": {},
   "outputs": [],
   "source": [
    "df = pd.DataFrame(all_players)"
   ]
  },
  {
   "cell_type": "code",
   "execution_count": 7,
   "id": "26676d82-8219-46b1-9641-219ed25b4bfd",
   "metadata": {},
   "outputs": [],
   "source": [
    "df.drop('first_name', inplace=True, axis=1)\n",
    "df.drop('last_name', inplace=True, axis=1)"
   ]
  },
  {
   "cell_type": "code",
   "execution_count": 8,
   "id": "a1c7fb54-33a6-4ab0-a657-7b457ce0d786",
   "metadata": {},
   "outputs": [
    {
     "data": {
      "text/html": [
       "<div>\n",
       "<style scoped>\n",
       "    .dataframe tbody tr th:only-of-type {\n",
       "        vertical-align: middle;\n",
       "    }\n",
       "\n",
       "    .dataframe tbody tr th {\n",
       "        vertical-align: top;\n",
       "    }\n",
       "\n",
       "    .dataframe thead th {\n",
       "        text-align: right;\n",
       "    }\n",
       "</style>\n",
       "<table border=\"1\" class=\"dataframe\">\n",
       "  <thead>\n",
       "    <tr style=\"text-align: right;\">\n",
       "      <th></th>\n",
       "      <th>id</th>\n",
       "      <th>full_name</th>\n",
       "      <th>is_active</th>\n",
       "    </tr>\n",
       "  </thead>\n",
       "  <tbody>\n",
       "    <tr>\n",
       "      <th>0</th>\n",
       "      <td>76001</td>\n",
       "      <td>Alaa Abdelnaby</td>\n",
       "      <td>False</td>\n",
       "    </tr>\n",
       "    <tr>\n",
       "      <th>1</th>\n",
       "      <td>76002</td>\n",
       "      <td>Zaid Abdul-Aziz</td>\n",
       "      <td>False</td>\n",
       "    </tr>\n",
       "    <tr>\n",
       "      <th>2</th>\n",
       "      <td>76003</td>\n",
       "      <td>Kareem Abdul-Jabbar</td>\n",
       "      <td>False</td>\n",
       "    </tr>\n",
       "    <tr>\n",
       "      <th>3</th>\n",
       "      <td>51</td>\n",
       "      <td>Mahmoud Abdul-Rauf</td>\n",
       "      <td>False</td>\n",
       "    </tr>\n",
       "    <tr>\n",
       "      <th>4</th>\n",
       "      <td>1505</td>\n",
       "      <td>Tariq Abdul-Wahad</td>\n",
       "      <td>False</td>\n",
       "    </tr>\n",
       "  </tbody>\n",
       "</table>\n",
       "</div>"
      ],
      "text/plain": [
       "      id            full_name  is_active\n",
       "0  76001       Alaa Abdelnaby      False\n",
       "1  76002      Zaid Abdul-Aziz      False\n",
       "2  76003  Kareem Abdul-Jabbar      False\n",
       "3     51   Mahmoud Abdul-Rauf      False\n",
       "4   1505    Tariq Abdul-Wahad      False"
      ]
     },
     "execution_count": 8,
     "metadata": {},
     "output_type": "execute_result"
    }
   ],
   "source": [
    "df.head()"
   ]
  },
  {
   "cell_type": "code",
   "execution_count": 9,
   "id": "403158ba-ce8e-4815-bb88-33d4bceb036d",
   "metadata": {},
   "outputs": [],
   "source": [
    "player_row = df[df['full_name'] == player_name]"
   ]
  },
  {
   "cell_type": "code",
   "execution_count": 10,
   "id": "b95ffafa-0a62-4b18-bc53-6011ba644e2c",
   "metadata": {},
   "outputs": [
    {
     "data": {
      "text/plain": [
       "1628983"
      ]
     },
     "execution_count": 10,
     "metadata": {},
     "output_type": "execute_result"
    }
   ],
   "source": [
    "player_id = player_row['id'].iloc[0]\n",
    "player_id"
   ]
  },
  {
   "cell_type": "code",
   "execution_count": 11,
   "id": "b21f4026-af01-4cb9-91fd-4620b819d83c",
   "metadata": {},
   "outputs": [],
   "source": [
    "playerprofile = playerprofilev2.PlayerProfileV2(player_id=player_id)"
   ]
  },
  {
   "cell_type": "code",
   "execution_count": 12,
   "id": "d24c7c0c-b05a-468d-ad48-3dd39c87a553",
   "metadata": {},
   "outputs": [],
   "source": [
    "df_player_profile = playerprofile.get_data_frames()[0]\n",
    "player_team_abbrev = list(df_player_profile['TEAM_ABBREVIATION'])[-1]"
   ]
  },
  {
   "cell_type": "code",
   "execution_count": null,
   "id": "edc0e9f0-be95-4ae5-bb1e-69c9773b9a03",
   "metadata": {},
   "outputs": [],
   "source": [
    "df = pd.concat((df, player_team_abbrev)) # not working because of specific choice of player"
   ]
  },
  {
   "cell_type": "code",
   "execution_count": 19,
   "id": "31d0045b-1226-47eb-aa35-76b396c95a47",
   "metadata": {},
   "outputs": [],
   "source": [
    "team_id = team_df[team_df['abbreviation'] == player_team_abbrev]['id']"
   ]
  },
  {
   "cell_type": "code",
   "execution_count": 20,
   "id": "6643e290-bb9b-45d6-926d-7b6ef10ac126",
   "metadata": {},
   "outputs": [],
   "source": [
    "team_roster = commonteamroster.CommonTeamRoster(team_id=team_id)"
   ]
  },
  {
   "cell_type": "code",
   "execution_count": 31,
   "id": "31411af0-4d7b-4c45-ab28-e22bd43615cb",
   "metadata": {},
   "outputs": [],
   "source": [
    "team_roster = team_roster.get_data_frames()[0]"
   ]
  },
  {
   "cell_type": "code",
   "execution_count": 34,
   "id": "a04d427f-9f1d-4618-9240-59b0f8e2b0a3",
   "metadata": {},
   "outputs": [],
   "source": [
    "player_num = team_roster[team_roster['PLAYER'] == player_name]"
   ]
  },
  {
   "cell_type": "code",
   "execution_count": 37,
   "id": "16d1e97e-7984-40ee-a4f4-4cdb5cb97e27",
   "metadata": {},
   "outputs": [
    {
     "data": {
      "text/plain": [
       "5    2\n",
       "Name: NUM, dtype: object"
      ]
     },
     "execution_count": 37,
     "metadata": {},
     "output_type": "execute_result"
    }
   ],
   "source": [
    "player_num['NUM']"
   ]
  }
 ],
 "metadata": {
  "kernelspec": {
   "display_name": "Python 3 (ipykernel)",
   "language": "python",
   "name": "python3"
  },
  "language_info": {
   "codemirror_mode": {
    "name": "ipython",
    "version": 3
   },
   "file_extension": ".py",
   "mimetype": "text/x-python",
   "name": "python",
   "nbconvert_exporter": "python",
   "pygments_lexer": "ipython3",
   "version": "3.12.6"
  }
 },
 "nbformat": 4,
 "nbformat_minor": 5
}
