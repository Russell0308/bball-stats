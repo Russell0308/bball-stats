{
 "cells": [
  {
   "cell_type": "code",
   "execution_count": 2,
   "id": "986409e7-558c-40cc-aa85-62d99182f447",
   "metadata": {},
   "outputs": [],
   "source": [
    "from thefuzz import process\n",
    "\n",
    "from nba_api.stats.static import teams, players\n",
    "from nba_api.stats.endpoints import commonteamroster, playerprofilev2\n",
    "\n",
    "import pandas as pd"
   ]
  },
  {
   "cell_type": "code",
   "execution_count": 3,
   "id": "29f8dd4f-925c-49f3-af6c-2950f836365e",
   "metadata": {},
   "outputs": [],
   "source": [
    "player = 'agbaji'"
   ]
  },
  {
   "cell_type": "code",
   "execution_count": 4,
   "id": "ea9e0610-4a56-47d6-bde1-aa5b9fd3c839",
   "metadata": {},
   "outputs": [
    {
     "data": {
      "text/html": [
       "<div>\n",
       "<style scoped>\n",
       "    .dataframe tbody tr th:only-of-type {\n",
       "        vertical-align: middle;\n",
       "    }\n",
       "\n",
       "    .dataframe tbody tr th {\n",
       "        vertical-align: top;\n",
       "    }\n",
       "\n",
       "    .dataframe thead th {\n",
       "        text-align: right;\n",
       "    }\n",
       "</style>\n",
       "<table border=\"1\" class=\"dataframe\">\n",
       "  <thead>\n",
       "    <tr style=\"text-align: right;\">\n",
       "      <th></th>\n",
       "      <th>id</th>\n",
       "      <th>full_name</th>\n",
       "      <th>first_name</th>\n",
       "      <th>last_name</th>\n",
       "    </tr>\n",
       "  </thead>\n",
       "  <tbody>\n",
       "    <tr>\n",
       "      <th>10</th>\n",
       "      <td>1630173</td>\n",
       "      <td>Precious Achiuwa</td>\n",
       "      <td>Precious</td>\n",
       "      <td>Achiuwa</td>\n",
       "    </tr>\n",
       "    <tr>\n",
       "      <th>24</th>\n",
       "      <td>1628389</td>\n",
       "      <td>Bam Adebayo</td>\n",
       "      <td>Bam</td>\n",
       "      <td>Adebayo</td>\n",
       "    </tr>\n",
       "    <tr>\n",
       "      <th>29</th>\n",
       "      <td>1630534</td>\n",
       "      <td>Ochai Agbaji</td>\n",
       "      <td>Ochai</td>\n",
       "      <td>Agbaji</td>\n",
       "    </tr>\n",
       "    <tr>\n",
       "      <th>43</th>\n",
       "      <td>1630583</td>\n",
       "      <td>Santi Aldama</td>\n",
       "      <td>Santi</td>\n",
       "      <td>Aldama</td>\n",
       "    </tr>\n",
       "    <tr>\n",
       "      <th>57</th>\n",
       "      <td>1629638</td>\n",
       "      <td>Nickeil Alexander-Walker</td>\n",
       "      <td>Nickeil</td>\n",
       "      <td>Alexander-Walker</td>\n",
       "    </tr>\n",
       "    <tr>\n",
       "      <th>...</th>\n",
       "      <td>...</td>\n",
       "      <td>...</td>\n",
       "      <td>...</td>\n",
       "      <td>...</td>\n",
       "    </tr>\n",
       "    <tr>\n",
       "      <th>4993</th>\n",
       "      <td>201152</td>\n",
       "      <td>Thaddeus Young</td>\n",
       "      <td>Thaddeus</td>\n",
       "      <td>Young</td>\n",
       "    </tr>\n",
       "    <tr>\n",
       "      <th>4995</th>\n",
       "      <td>1629027</td>\n",
       "      <td>Trae Young</td>\n",
       "      <td>Trae</td>\n",
       "      <td>Young</td>\n",
       "    </tr>\n",
       "    <tr>\n",
       "      <th>4996</th>\n",
       "      <td>1630209</td>\n",
       "      <td>Omer Yurtseven</td>\n",
       "      <td>Omer</td>\n",
       "      <td>Yurtseven</td>\n",
       "    </tr>\n",
       "    <tr>\n",
       "      <th>4999</th>\n",
       "      <td>203469</td>\n",
       "      <td>Cody Zeller</td>\n",
       "      <td>Cody</td>\n",
       "      <td>Zeller</td>\n",
       "    </tr>\n",
       "    <tr>\n",
       "      <th>5016</th>\n",
       "      <td>1627826</td>\n",
       "      <td>Ivica Zubac</td>\n",
       "      <td>Ivica</td>\n",
       "      <td>Zubac</td>\n",
       "    </tr>\n",
       "  </tbody>\n",
       "</table>\n",
       "<p>573 rows × 4 columns</p>\n",
       "</div>"
      ],
      "text/plain": [
       "           id                 full_name first_name         last_name\n",
       "10    1630173          Precious Achiuwa   Precious           Achiuwa\n",
       "24    1628389               Bam Adebayo        Bam           Adebayo\n",
       "29    1630534              Ochai Agbaji      Ochai            Agbaji\n",
       "43    1630583              Santi Aldama      Santi            Aldama\n",
       "57    1629638  Nickeil Alexander-Walker    Nickeil  Alexander-Walker\n",
       "...       ...                       ...        ...               ...\n",
       "4993   201152            Thaddeus Young   Thaddeus             Young\n",
       "4995  1629027                Trae Young       Trae             Young\n",
       "4996  1630209            Omer Yurtseven       Omer         Yurtseven\n",
       "4999   203469               Cody Zeller       Cody            Zeller\n",
       "5016  1627826               Ivica Zubac      Ivica             Zubac\n",
       "\n",
       "[573 rows x 4 columns]"
      ]
     },
     "execution_count": 4,
     "metadata": {},
     "output_type": "execute_result"
    }
   ],
   "source": [
    "players_df = pd.DataFrame(players.get_players())\n",
    "players_df = players_df[players_df['is_active'] == True]\n",
    "players_df.drop('is_active', axis=1)"
   ]
  },
  {
   "cell_type": "code",
   "execution_count": 5,
   "id": "5be8fb15-e088-47d9-a258-5807112edf74",
   "metadata": {},
   "outputs": [],
   "source": [
    "search = process.extract(player, players_df['full_name'], limit=5)"
   ]
  },
  {
   "cell_type": "code",
   "execution_count": 6,
   "id": "dc511c70-1d9b-43fa-93c7-b1732a4dbf9a",
   "metadata": {},
   "outputs": [],
   "source": [
    "player_name = search[0][0]\n",
    "player_row = players_df[players_df['full_name'] == player_name]\n",
    "player_id = player_row['id'].iloc[0]"
   ]
  },
  {
   "cell_type": "code",
   "execution_count": 16,
   "id": "af9a5aec-7510-4b0e-b186-f6401f6fed89",
   "metadata": {},
   "outputs": [
    {
     "ename": "ValueError",
     "evalue": "setting an array element with a sequence. The requested array has an inhomogeneous shape after 1 dimensions. The detected shape was (15,) + inhomogeneous part.",
     "output_type": "error",
     "traceback": [
      "\u001b[0;31m---------------------------------------------------------------------------\u001b[0m",
      "\u001b[0;31mValueError\u001b[0m                                Traceback (most recent call last)",
      "Cell \u001b[0;32mIn[16], line 3\u001b[0m\n\u001b[1;32m      1\u001b[0m playerprofile \u001b[38;5;241m=\u001b[39m playerprofilev2\u001b[38;5;241m.\u001b[39mPlayerProfileV2(player_id\u001b[38;5;241m=\u001b[39mplayer_id)\u001b[38;5;241m.\u001b[39mget_data_frames()\n\u001b[0;32m----> 3\u001b[0m playerprofile \u001b[38;5;241m=\u001b[39m \u001b[43mpd\u001b[49m\u001b[38;5;241;43m.\u001b[39;49m\u001b[43mDataFrame\u001b[49m\u001b[43m(\u001b[49m\u001b[43mplayerprofile\u001b[49m\u001b[43m)\u001b[49m\n\u001b[1;32m      5\u001b[0m playerprofile\n\u001b[1;32m      7\u001b[0m \u001b[38;5;66;03m#players_team_id = playerprofile[-1]['PLAYER_TEAM_ID'].iloc[0]\u001b[39;00m\n\u001b[1;32m      8\u001b[0m \u001b[38;5;66;03m# [-1]['PLAYER_TEAM_ID'].iloc[0] # finds actual team id\u001b[39;00m\n",
      "File \u001b[0;32m/opt/homebrew/lib/python3.12/site-packages/pandas/core/frame.py:856\u001b[0m, in \u001b[0;36mDataFrame.__init__\u001b[0;34m(self, data, index, columns, dtype, copy)\u001b[0m\n\u001b[1;32m    848\u001b[0m         mgr \u001b[38;5;241m=\u001b[39m arrays_to_mgr(\n\u001b[1;32m    849\u001b[0m             arrays,\n\u001b[1;32m    850\u001b[0m             columns,\n\u001b[0;32m   (...)\u001b[0m\n\u001b[1;32m    853\u001b[0m             typ\u001b[38;5;241m=\u001b[39mmanager,\n\u001b[1;32m    854\u001b[0m         )\n\u001b[1;32m    855\u001b[0m     \u001b[38;5;28;01melse\u001b[39;00m:\n\u001b[0;32m--> 856\u001b[0m         mgr \u001b[38;5;241m=\u001b[39m \u001b[43mndarray_to_mgr\u001b[49m\u001b[43m(\u001b[49m\n\u001b[1;32m    857\u001b[0m \u001b[43m            \u001b[49m\u001b[43mdata\u001b[49m\u001b[43m,\u001b[49m\n\u001b[1;32m    858\u001b[0m \u001b[43m            \u001b[49m\u001b[43mindex\u001b[49m\u001b[43m,\u001b[49m\n\u001b[1;32m    859\u001b[0m \u001b[43m            \u001b[49m\u001b[43mcolumns\u001b[49m\u001b[43m,\u001b[49m\n\u001b[1;32m    860\u001b[0m \u001b[43m            \u001b[49m\u001b[43mdtype\u001b[49m\u001b[38;5;241;43m=\u001b[39;49m\u001b[43mdtype\u001b[49m\u001b[43m,\u001b[49m\n\u001b[1;32m    861\u001b[0m \u001b[43m            \u001b[49m\u001b[43mcopy\u001b[49m\u001b[38;5;241;43m=\u001b[39;49m\u001b[43mcopy\u001b[49m\u001b[43m,\u001b[49m\n\u001b[1;32m    862\u001b[0m \u001b[43m            \u001b[49m\u001b[43mtyp\u001b[49m\u001b[38;5;241;43m=\u001b[39;49m\u001b[43mmanager\u001b[49m\u001b[43m,\u001b[49m\n\u001b[1;32m    863\u001b[0m \u001b[43m        \u001b[49m\u001b[43m)\u001b[49m\n\u001b[1;32m    864\u001b[0m \u001b[38;5;28;01melse\u001b[39;00m:\n\u001b[1;32m    865\u001b[0m     mgr \u001b[38;5;241m=\u001b[39m dict_to_mgr(\n\u001b[1;32m    866\u001b[0m         {},\n\u001b[1;32m    867\u001b[0m         index,\n\u001b[0;32m   (...)\u001b[0m\n\u001b[1;32m    870\u001b[0m         typ\u001b[38;5;241m=\u001b[39mmanager,\n\u001b[1;32m    871\u001b[0m     )\n",
      "File \u001b[0;32m/opt/homebrew/lib/python3.12/site-packages/pandas/core/internals/construction.py:319\u001b[0m, in \u001b[0;36mndarray_to_mgr\u001b[0;34m(values, index, columns, dtype, copy, typ)\u001b[0m\n\u001b[1;32m    314\u001b[0m     values \u001b[38;5;241m=\u001b[39m _ensure_2d(values)\n\u001b[1;32m    316\u001b[0m \u001b[38;5;28;01melse\u001b[39;00m:\n\u001b[1;32m    317\u001b[0m     \u001b[38;5;66;03m# by definition an array here\u001b[39;00m\n\u001b[1;32m    318\u001b[0m     \u001b[38;5;66;03m# the dtypes will be coerced to a single dtype\u001b[39;00m\n\u001b[0;32m--> 319\u001b[0m     values \u001b[38;5;241m=\u001b[39m \u001b[43m_prep_ndarraylike\u001b[49m\u001b[43m(\u001b[49m\u001b[43mvalues\u001b[49m\u001b[43m,\u001b[49m\u001b[43m \u001b[49m\u001b[43mcopy\u001b[49m\u001b[38;5;241;43m=\u001b[39;49m\u001b[43mcopy_on_sanitize\u001b[49m\u001b[43m)\u001b[49m\n\u001b[1;32m    321\u001b[0m \u001b[38;5;28;01mif\u001b[39;00m dtype \u001b[38;5;129;01mis\u001b[39;00m \u001b[38;5;129;01mnot\u001b[39;00m \u001b[38;5;28;01mNone\u001b[39;00m \u001b[38;5;129;01mand\u001b[39;00m values\u001b[38;5;241m.\u001b[39mdtype \u001b[38;5;241m!=\u001b[39m dtype:\n\u001b[1;32m    322\u001b[0m     \u001b[38;5;66;03m# GH#40110 see similar check inside sanitize_array\u001b[39;00m\n\u001b[1;32m    323\u001b[0m     values \u001b[38;5;241m=\u001b[39m sanitize_array(\n\u001b[1;32m    324\u001b[0m         values,\n\u001b[1;32m    325\u001b[0m         \u001b[38;5;28;01mNone\u001b[39;00m,\n\u001b[0;32m   (...)\u001b[0m\n\u001b[1;32m    328\u001b[0m         allow_2d\u001b[38;5;241m=\u001b[39m\u001b[38;5;28;01mTrue\u001b[39;00m,\n\u001b[1;32m    329\u001b[0m     )\n",
      "File \u001b[0;32m/opt/homebrew/lib/python3.12/site-packages/pandas/core/internals/construction.py:575\u001b[0m, in \u001b[0;36m_prep_ndarraylike\u001b[0;34m(values, copy)\u001b[0m\n\u001b[1;32m    569\u001b[0m \u001b[38;5;66;03m# we could have a 1-dim or 2-dim list here\u001b[39;00m\n\u001b[1;32m    570\u001b[0m \u001b[38;5;66;03m# this is equiv of np.asarray, but does object conversion\u001b[39;00m\n\u001b[1;32m    571\u001b[0m \u001b[38;5;66;03m# and platform dtype preservation\u001b[39;00m\n\u001b[1;32m    572\u001b[0m \u001b[38;5;66;03m# does not convert e.g. [1, \"a\", True] to [\"1\", \"a\", \"True\"] like\u001b[39;00m\n\u001b[1;32m    573\u001b[0m \u001b[38;5;66;03m#  np.asarray would\u001b[39;00m\n\u001b[1;32m    574\u001b[0m \u001b[38;5;28;01mif\u001b[39;00m is_list_like(values[\u001b[38;5;241m0\u001b[39m]):\n\u001b[0;32m--> 575\u001b[0m     values \u001b[38;5;241m=\u001b[39m \u001b[43mnp\u001b[49m\u001b[38;5;241;43m.\u001b[39;49m\u001b[43marray\u001b[49m\u001b[43m(\u001b[49m\u001b[43m[\u001b[49m\u001b[43mconvert\u001b[49m\u001b[43m(\u001b[49m\u001b[43mv\u001b[49m\u001b[43m)\u001b[49m\u001b[43m \u001b[49m\u001b[38;5;28;43;01mfor\u001b[39;49;00m\u001b[43m \u001b[49m\u001b[43mv\u001b[49m\u001b[43m \u001b[49m\u001b[38;5;129;43;01min\u001b[39;49;00m\u001b[43m \u001b[49m\u001b[43mvalues\u001b[49m\u001b[43m]\u001b[49m\u001b[43m)\u001b[49m\n\u001b[1;32m    576\u001b[0m \u001b[38;5;28;01melif\u001b[39;00m \u001b[38;5;28misinstance\u001b[39m(values[\u001b[38;5;241m0\u001b[39m], np\u001b[38;5;241m.\u001b[39mndarray) \u001b[38;5;129;01mand\u001b[39;00m values[\u001b[38;5;241m0\u001b[39m]\u001b[38;5;241m.\u001b[39mndim \u001b[38;5;241m==\u001b[39m \u001b[38;5;241m0\u001b[39m:\n\u001b[1;32m    577\u001b[0m     \u001b[38;5;66;03m# GH#21861 see test_constructor_list_of_lists\u001b[39;00m\n\u001b[1;32m    578\u001b[0m     values \u001b[38;5;241m=\u001b[39m np\u001b[38;5;241m.\u001b[39marray([convert(v) \u001b[38;5;28;01mfor\u001b[39;00m v \u001b[38;5;129;01min\u001b[39;00m values])\n",
      "\u001b[0;31mValueError\u001b[0m: setting an array element with a sequence. The requested array has an inhomogeneous shape after 1 dimensions. The detected shape was (15,) + inhomogeneous part."
     ]
    }
   ],
   "source": [
    "playerprofile = playerprofilev2.PlayerProfileV2(player_id=player_id).get_data_frames()\n",
    "\n",
    "playerprofile = pd.DataFrame(playerprofile)\n",
    "\n",
    "playerprofile\n",
    "\n",
    "#players_team_id = playerprofile[-1]['PLAYER_TEAM_ID'].iloc[0]\n",
    "# [-1]['PLAYER_TEAM_ID'].iloc[0] # finds actual team id"
   ]
  }
 ],
 "metadata": {
  "kernelspec": {
   "display_name": "Python 3 (ipykernel)",
   "language": "python",
   "name": "python3"
  },
  "language_info": {
   "codemirror_mode": {
    "name": "ipython",
    "version": 3
   },
   "file_extension": ".py",
   "mimetype": "text/x-python",
   "name": "python",
   "nbconvert_exporter": "python",
   "pygments_lexer": "ipython3",
   "version": "3.12.6"
  }
 },
 "nbformat": 4,
 "nbformat_minor": 5
}
