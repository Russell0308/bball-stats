{
 "cells": [
  {
   "cell_type": "code",
   "execution_count": 3,
   "id": "986409e7-558c-40cc-aa85-62d99182f447",
   "metadata": {},
   "outputs": [],
   "source": [
    "from thefuzz import process\n",
    "\n",
    "from nba_api.stats.static import teams, players\n",
    "from nba_api.stats.endpoints import commonteamroster, playerprofilev2\n",
    "\n",
    "import pandas as pd"
   ]
  },
  {
   "cell_type": "code",
   "execution_count": 13,
   "id": "29f8dd4f-925c-49f3-af6c-2950f836365e",
   "metadata": {},
   "outputs": [],
   "source": [
    "player = 'agbaji'"
   ]
  },
  {
   "cell_type": "code",
   "execution_count": 14,
   "id": "ea9e0610-4a56-47d6-bde1-aa5b9fd3c839",
   "metadata": {},
   "outputs": [
    {
     "data": {
      "text/html": [
       "<div>\n",
       "<style scoped>\n",
       "    .dataframe tbody tr th:only-of-type {\n",
       "        vertical-align: middle;\n",
       "    }\n",
       "\n",
       "    .dataframe tbody tr th {\n",
       "        vertical-align: top;\n",
       "    }\n",
       "\n",
       "    .dataframe thead th {\n",
       "        text-align: right;\n",
       "    }\n",
       "</style>\n",
       "<table border=\"1\" class=\"dataframe\">\n",
       "  <thead>\n",
       "    <tr style=\"text-align: right;\">\n",
       "      <th></th>\n",
       "      <th>id</th>\n",
       "      <th>full_name</th>\n",
       "      <th>first_name</th>\n",
       "      <th>last_name</th>\n",
       "    </tr>\n",
       "  </thead>\n",
       "  <tbody>\n",
       "    <tr>\n",
       "      <th>10</th>\n",
       "      <td>1630173</td>\n",
       "      <td>Precious Achiuwa</td>\n",
       "      <td>Precious</td>\n",
       "      <td>Achiuwa</td>\n",
       "    </tr>\n",
       "    <tr>\n",
       "      <th>24</th>\n",
       "      <td>1628389</td>\n",
       "      <td>Bam Adebayo</td>\n",
       "      <td>Bam</td>\n",
       "      <td>Adebayo</td>\n",
       "    </tr>\n",
       "    <tr>\n",
       "      <th>29</th>\n",
       "      <td>1630534</td>\n",
       "      <td>Ochai Agbaji</td>\n",
       "      <td>Ochai</td>\n",
       "      <td>Agbaji</td>\n",
       "    </tr>\n",
       "    <tr>\n",
       "      <th>43</th>\n",
       "      <td>1630583</td>\n",
       "      <td>Santi Aldama</td>\n",
       "      <td>Santi</td>\n",
       "      <td>Aldama</td>\n",
       "    </tr>\n",
       "    <tr>\n",
       "      <th>57</th>\n",
       "      <td>1629638</td>\n",
       "      <td>Nickeil Alexander-Walker</td>\n",
       "      <td>Nickeil</td>\n",
       "      <td>Alexander-Walker</td>\n",
       "    </tr>\n",
       "    <tr>\n",
       "      <th>...</th>\n",
       "      <td>...</td>\n",
       "      <td>...</td>\n",
       "      <td>...</td>\n",
       "      <td>...</td>\n",
       "    </tr>\n",
       "    <tr>\n",
       "      <th>4993</th>\n",
       "      <td>201152</td>\n",
       "      <td>Thaddeus Young</td>\n",
       "      <td>Thaddeus</td>\n",
       "      <td>Young</td>\n",
       "    </tr>\n",
       "    <tr>\n",
       "      <th>4995</th>\n",
       "      <td>1629027</td>\n",
       "      <td>Trae Young</td>\n",
       "      <td>Trae</td>\n",
       "      <td>Young</td>\n",
       "    </tr>\n",
       "    <tr>\n",
       "      <th>4996</th>\n",
       "      <td>1630209</td>\n",
       "      <td>Omer Yurtseven</td>\n",
       "      <td>Omer</td>\n",
       "      <td>Yurtseven</td>\n",
       "    </tr>\n",
       "    <tr>\n",
       "      <th>4999</th>\n",
       "      <td>203469</td>\n",
       "      <td>Cody Zeller</td>\n",
       "      <td>Cody</td>\n",
       "      <td>Zeller</td>\n",
       "    </tr>\n",
       "    <tr>\n",
       "      <th>5016</th>\n",
       "      <td>1627826</td>\n",
       "      <td>Ivica Zubac</td>\n",
       "      <td>Ivica</td>\n",
       "      <td>Zubac</td>\n",
       "    </tr>\n",
       "  </tbody>\n",
       "</table>\n",
       "<p>573 rows × 4 columns</p>\n",
       "</div>"
      ],
      "text/plain": [
       "           id                 full_name first_name         last_name\n",
       "10    1630173          Precious Achiuwa   Precious           Achiuwa\n",
       "24    1628389               Bam Adebayo        Bam           Adebayo\n",
       "29    1630534              Ochai Agbaji      Ochai            Agbaji\n",
       "43    1630583              Santi Aldama      Santi            Aldama\n",
       "57    1629638  Nickeil Alexander-Walker    Nickeil  Alexander-Walker\n",
       "...       ...                       ...        ...               ...\n",
       "4993   201152            Thaddeus Young   Thaddeus             Young\n",
       "4995  1629027                Trae Young       Trae             Young\n",
       "4996  1630209            Omer Yurtseven       Omer         Yurtseven\n",
       "4999   203469               Cody Zeller       Cody            Zeller\n",
       "5016  1627826               Ivica Zubac      Ivica             Zubac\n",
       "\n",
       "[573 rows x 4 columns]"
      ]
     },
     "execution_count": 14,
     "metadata": {},
     "output_type": "execute_result"
    }
   ],
   "source": [
    "players_df = pd.DataFrame(players.get_players())\n",
    "players_df = players_df[players_df['is_active'] == True]\n",
    "players_df.drop('is_active', axis=1)"
   ]
  },
  {
   "cell_type": "code",
   "execution_count": 15,
   "id": "5be8fb15-e088-47d9-a258-5807112edf74",
   "metadata": {},
   "outputs": [],
   "source": [
    "search = process.extract(player, players_df['full_name'], limit=5)"
   ]
  },
  {
   "cell_type": "code",
   "execution_count": 17,
   "id": "dc511c70-1d9b-43fa-93c7-b1732a4dbf9a",
   "metadata": {},
   "outputs": [],
   "source": [
    "player_name = search[0][0]\n",
    "player_row = players_df[players_df['full_name'] == player_name]\n",
    "player_id = player_row['id'].iloc[0]"
   ]
  },
  {
   "cell_type": "code",
   "execution_count": 22,
   "id": "af9a5aec-7510-4b0e-b186-f6401f6fed89",
   "metadata": {},
   "outputs": [
    {
     "data": {
      "text/plain": [
       "1610612761"
      ]
     },
     "execution_count": 22,
     "metadata": {},
     "output_type": "execute_result"
    }
   ],
   "source": [
    "playerprofilev2.PlayerProfileV2(player_id=player_id).get_data_frames()[-1]['PLAYER_TEAM_ID'].iloc[0]"
   ]
  }
 ],
 "metadata": {
  "kernelspec": {
   "display_name": "Python 3 (ipykernel)",
   "language": "python",
   "name": "python3"
  },
  "language_info": {
   "codemirror_mode": {
    "name": "ipython",
    "version": 3
   },
   "file_extension": ".py",
   "mimetype": "text/x-python",
   "name": "python",
   "nbconvert_exporter": "python",
   "pygments_lexer": "ipython3",
   "version": "3.12.6"
  }
 },
 "nbformat": 4,
 "nbformat_minor": 5
}
