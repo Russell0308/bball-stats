{
 "cells": [
  {
   "cell_type": "code",
   "execution_count": 1,
   "id": "ee9942ca-84b2-4145-a02d-0702eec5f91c",
   "metadata": {},
   "outputs": [],
   "source": [
    "#DS Imports\n",
    "import pandas as pd\n",
    "\n",
    "#Fuzzy Finder Algorithm\n",
    "from thefuzz import fuzz\n",
    "from thefuzz import process\n",
    "\n",
    "#Stats API\n",
    "from nba_api.stats.library import data"
   ]
  },
  {
   "cell_type": "code",
   "execution_count": 2,
   "id": "e322a807-2073-4e2a-964e-5bccb708149d",
   "metadata": {},
   "outputs": [],
   "source": [
    "players = pd.DataFrame(data.players)"
   ]
  },
  {
   "cell_type": "code",
   "execution_count": 10,
   "id": "505219d3-79cf-4d39-b836-cd56511c8097",
   "metadata": {},
   "outputs": [
    {
     "data": {
      "text/html": [
       "<div>\n",
       "<style scoped>\n",
       "    .dataframe tbody tr th:only-of-type {\n",
       "        vertical-align: middle;\n",
       "    }\n",
       "\n",
       "    .dataframe tbody tr th {\n",
       "        vertical-align: top;\n",
       "    }\n",
       "\n",
       "    .dataframe thead th {\n",
       "        text-align: right;\n",
       "    }\n",
       "</style>\n",
       "<table border=\"1\" class=\"dataframe\">\n",
       "  <thead>\n",
       "    <tr style=\"text-align: right;\">\n",
       "      <th></th>\n",
       "      <th>0</th>\n",
       "      <th>1</th>\n",
       "      <th>2</th>\n",
       "      <th>3</th>\n",
       "      <th>4</th>\n",
       "    </tr>\n",
       "  </thead>\n",
       "  <tbody>\n",
       "    <tr>\n",
       "      <th>0</th>\n",
       "      <td>76001</td>\n",
       "      <td>Abdelnaby</td>\n",
       "      <td>Alaa</td>\n",
       "      <td>Alaa Abdelnaby</td>\n",
       "      <td>False</td>\n",
       "    </tr>\n",
       "    <tr>\n",
       "      <th>1</th>\n",
       "      <td>76002</td>\n",
       "      <td>Abdul-Aziz</td>\n",
       "      <td>Zaid</td>\n",
       "      <td>Zaid Abdul-Aziz</td>\n",
       "      <td>False</td>\n",
       "    </tr>\n",
       "    <tr>\n",
       "      <th>2</th>\n",
       "      <td>76003</td>\n",
       "      <td>Abdul-Jabbar</td>\n",
       "      <td>Kareem</td>\n",
       "      <td>Kareem Abdul-Jabbar</td>\n",
       "      <td>False</td>\n",
       "    </tr>\n",
       "    <tr>\n",
       "      <th>3</th>\n",
       "      <td>51</td>\n",
       "      <td>Abdul-Rauf</td>\n",
       "      <td>Mahmoud</td>\n",
       "      <td>Mahmoud Abdul-Rauf</td>\n",
       "      <td>False</td>\n",
       "    </tr>\n",
       "    <tr>\n",
       "      <th>4</th>\n",
       "      <td>1505</td>\n",
       "      <td>Abdul-Wahad</td>\n",
       "      <td>Tariq</td>\n",
       "      <td>Tariq Abdul-Wahad</td>\n",
       "      <td>False</td>\n",
       "    </tr>\n",
       "  </tbody>\n",
       "</table>\n",
       "</div>"
      ],
      "text/plain": [
       "       0             1        2                    3      4\n",
       "0  76001     Abdelnaby     Alaa       Alaa Abdelnaby  False\n",
       "1  76002    Abdul-Aziz     Zaid      Zaid Abdul-Aziz  False\n",
       "2  76003  Abdul-Jabbar   Kareem  Kareem Abdul-Jabbar  False\n",
       "3     51    Abdul-Rauf  Mahmoud   Mahmoud Abdul-Rauf  False\n",
       "4   1505   Abdul-Wahad    Tariq    Tariq Abdul-Wahad  False"
      ]
     },
     "execution_count": 10,
     "metadata": {},
     "output_type": "execute_result"
    }
   ],
   "source": [
    "players.head()"
   ]
  },
  {
   "cell_type": "code",
   "execution_count": 9,
   "id": "c8be1745-aa4d-4202-9d63-1674e1f81ccf",
   "metadata": {},
   "outputs": [],
   "source": [
    "def name_match(search_string: str, search_list: list):\n",
    "    for i in search_list:\n",
    "        for x in range(len(i)):\n",
    "            pass"
   ]
  },
  {
   "cell_type": "code",
   "execution_count": 8,
   "id": "82836a82-f2fe-4dea-b4f5-492ea3cc4faf",
   "metadata": {},
   "outputs": [],
   "source": [
    "def player_search():\n",
    "    pass"
   ]
  },
  {
   "cell_type": "code",
   "execution_count": null,
   "id": "0d487106-93b5-49a1-b468-8a722f06a1d7",
   "metadata": {},
   "outputs": [],
   "source": []
  }
 ],
 "metadata": {
  "kernelspec": {
   "display_name": "Python 3 (ipykernel)",
   "language": "python",
   "name": "python3"
  },
  "language_info": {
   "codemirror_mode": {
    "name": "ipython",
    "version": 3
   },
   "file_extension": ".py",
   "mimetype": "text/x-python",
   "name": "python",
   "nbconvert_exporter": "python",
   "pygments_lexer": "ipython3",
   "version": "3.12.5"
  }
 },
 "nbformat": 4,
 "nbformat_minor": 5
}
